{
 "cells": [
  {
   "cell_type": "code",
   "execution_count": null,
   "metadata": {},
   "outputs": [],
   "source": [
    "!pip install deepcoil"
   ]
  },
  {
   "cell_type": "code",
   "execution_count": 1,
   "metadata": {},
   "outputs": [],
   "source": [
    "\n",
    "\n",
    "from deepcoil import DeepCoil\n",
    "from deepcoil.utils import plot_preds\n",
    "from Bio import SeqIO\n",
    "\n",
    "try:\n",
    "    dc = DeepCoil(use_gpu=True)\n",
    "except:\n",
    "    dc = DeepCoil(use_gpu=False)\n",
    "\n",
    "inp = {str(entry.id): str(entry.seq) for entry in SeqIO.parse('example/example.fas', 'fasta')}\n",
    "\n",
    "results = dc.predict(inp)"
   ]
  }
 ],
 "metadata": {
  "kernelspec": {
   "display_name": "thesis",
   "language": "python",
   "name": "python3"
  },
  "language_info": {
   "codemirror_mode": {
    "name": "ipython",
    "version": 3
   },
   "file_extension": ".py",
   "mimetype": "text/x-python",
   "name": "python",
   "nbconvert_exporter": "python",
   "pygments_lexer": "ipython3",
   "version": "3.9.15"
  },
  "orig_nbformat": 4,
  "vscode": {
   "interpreter": {
    "hash": "e7864e4a07c52be0aa04fefc3b9f2c981db97d59bac437fdf1cab64879984a66"
   }
  }
 },
 "nbformat": 4,
 "nbformat_minor": 2
}
